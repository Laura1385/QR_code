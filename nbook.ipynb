{
 "cells": [
  {
   "cell_type": "code",
   "execution_count": 2,
   "metadata": {},
   "outputs": [
    {
     "name": "stdout",
     "output_type": "stream",
     "text": [
      "The current python's version is:  3.9.6\n",
      "The path of the current Python interpreter (should be a virtual env!):  /Users/laura/Progetti_Python/000_Progetti_in_corso/QRCode/.v_env_qrcode/bin/python\n"
     ]
    }
   ],
   "source": [
    "#Check python's version\n",
    "from platform import python_version\n",
    "print(\"The current python's version is: \",python_version())\n",
    "\n",
    "#Check the path of the current Python interpreter used to execute the script.\n",
    "import sys\n",
    "print(\"The path of the current Python interpreter (should be a virtual env!): \",sys.executable)"
   ]
  },
  {
   "cell_type": "markdown",
   "metadata": {},
   "source": [
    "<h1 style=\"background-color:#eaeaea;font-family:Calibri;color:#fe0b50;font-size:200%;text-align:center;border-radius: 50px;padding: 10px\">QR Code Scanner</h1>"
   ]
  },
  {
   "cell_type": "markdown",
   "metadata": {},
   "source": [
    "Use your webcam as a qr code scanner"
   ]
  },
  {
   "cell_type": "markdown",
   "metadata": {},
   "source": [
    "## The Project\n",
    "\n",
    "Simple project to create QR codes, with links or text, and have them read by your computer's webcam.\n",
    "\n",
    "*Code developed starting from :: https://www.geeksforgeeks.org/webcam-qr-code-scanner-using-opencv/ "
   ]
  },
  {
   "cell_type": "markdown",
   "metadata": {},
   "source": [
    "<h1 style=\"background-color:#eaeaea;font-family:Calibri;color:orange;font-size:250%;text-align:center;border-radius:50px;padding:10px 30px;\">Index</h1>"
   ]
  },
  {
   "cell_type": "markdown",
   "metadata": {},
   "source": [
    "INDEX\n",
    "\n",
    "- [Libraries & Utilities](#0)\n",
    "\n",
    "- [Create a qrcode and read it with the webcam](#1)"
   ]
  },
  {
   "cell_type": "markdown",
   "metadata": {},
   "source": [
    "<a id = '0'></a>\n",
    "<h1 style=\"background-color:#eaeaea;font-family:Calibri;color:blue;font-size:250%;text-align:center;border-radius:50px;padding:10px 30px;\">Libraries</h1>"
   ]
  },
  {
   "cell_type": "markdown",
   "metadata": {},
   "source": [
    "<a id = '0'></a>\n",
    "<h1 style=\"font-size: 150%;\">Libraries & Utilities</h1>"
   ]
  },
  {
   "cell_type": "code",
   "execution_count": 3,
   "metadata": {},
   "outputs": [],
   "source": [
    "#Install all the libraries the project needs\n",
    "#!pip install -r requirements.txt \n",
    "\n",
    "import pyqrcode \n",
    "import png\n",
    "import cv2\n",
    "import webbrowser\n",
    "import qrcode\n",
    "\n",
    "from pyqrcode import QRCode\n",
    "\n",
    "import warnings #only for os\n",
    "warnings.filterwarnings(\"ignore\") #only for os"
   ]
  },
  {
   "cell_type": "markdown",
   "metadata": {},
   "source": [
    "Libraries:\n",
    "1. ***pyqrcode***\n",
    "-> Used for creating QR codes from text data, URLs, or other types of data.\n",
    "2. ***png***\n",
    "-> Used for creating and manipulating PNG images.\n",
    "3. ***cv2***\n",
    "-> Open-source library for image and video recognition.\n",
    "4. ***webbrowser***\n",
    "-> Library that provides an interface to interact with the system's default web browser, opening URLs or web pages.\n",
    "5. ***qrcode***\n",
    "-> Used for creating and encoding QR codes from text data, URLs, or other types of data.\n",
    "6. ***warnings***\n",
    "-> Used to handle warnings during code execution."
   ]
  },
  {
   "cell_type": "markdown",
   "metadata": {},
   "source": [
    "<a id = '1'></a>\n",
    "<h1 style=\"background-color:#eaeaea;font-family:Calibri;color:green;font-size:250%;text-align:center;border-radius: 50px;padding:10px 30px\">Create a qrcode and read it with the webcam</h1>"
   ]
  },
  {
   "cell_type": "code",
   "execution_count": 4,
   "metadata": {},
   "outputs": [],
   "source": [
    "#Creates a new qrcode file with link\n",
    "link = 'https://github.com/Laura1385' \n",
    "url = pyqrcode.create(link)\n",
    "url.png('qrcode_githublaura.png', scale = 10)"
   ]
  },
  {
   "cell_type": "code",
   "execution_count": 5,
   "metadata": {},
   "outputs": [],
   "source": [
    "#Creates a new qrcode file with text\n",
    "text = 'La mente...è solo uno scherzo...'\n",
    "qr = pyqrcode.create(text)\n",
    "qr.png('qrcode_text.png', scale=10)"
   ]
  },
  {
   "cell_type": "code",
   "execution_count": 6,
   "metadata": {},
   "outputs": [
    {
     "name": "stdout",
     "output_type": "stream",
     "text": [
      "QR code scan cancelled\n"
     ]
    }
   ],
   "source": [
    "#Chose if you want scan a new qrcode\n",
    "response = input(\"\\nDo you want to scan a new qrcode with your webcam? (y/n): \")\n",
    "response_lower = response.lower() #Conver in lower case\n",
    "\n",
    "codeqr = ()\n",
    "if response_lower == 'y':\n",
    "#Initalize the cam\n",
    "    cap = cv2.VideoCapture(0)\n",
    "\n",
    "    #Initialize the cv2 QRCode detector\n",
    "    detector = cv2.QRCodeDetector()\n",
    "\n",
    "    while True:\n",
    "        _, img = cap.read()\n",
    "        # _ variabile che indica se la lettura del frame è avvenuta correttamente\n",
    "        #in Python _ viene usato per indicare una variabile destinata ad essere ignorata o non usata\n",
    "\n",
    "        #Detect and decode\n",
    "        data, _ , _ = detector.detectAndDecode(img)\n",
    "        #occorre indicare _ e _ perchè detector.detectAndDecode(img) restituisce 3 valori\n",
    "        #ma serve solo data, gli altri poi li ignora\n",
    "\n",
    "        #Checks the data type in the qr code file\n",
    "        if data:\n",
    "            #If data is a link open the link in the browser\n",
    "            if data.startswith('http://') or data.startswith('https://'):\n",
    "                webbrowser.open(data)\n",
    "            else:\n",
    "                #If data is text print it out\n",
    "                print(\"Testo nel QR code:\", data)\n",
    "            break\n",
    "        \n",
    "        #Shows the windows dialog\n",
    "        cv2.imshow(\"QRCODEscanner app (press 'q' in case of problems)\", img)\n",
    "        \n",
    "        #Waits the q button press fou quit from the loop \n",
    "        if cv2.waitKey(1) == ord(\"q\"):\n",
    "            break\n",
    "\n",
    "    cap.release() #Stops using the webcam\n",
    "    cv2.destroyAllWindows()\n",
    "    \n",
    "else:\n",
    "     print(\"QR code scan cancelled\")"
   ]
  },
  {
   "cell_type": "markdown",
   "metadata": {},
   "source": [
    "<a id = '1-1'></a>\n",
    "<h1 style=\"font-size: 150%;\">Alternative - Creating a custom qrcode with the text inside</h1>"
   ]
  },
  {
   "cell_type": "code",
   "execution_count": 8,
   "metadata": {},
   "outputs": [],
   "source": [
    "#Creates qrcode file with a text inside - Qr Code coloured\n",
    "def create_qr_code(text):\n",
    "    qr = qrcode.QRCode(\n",
    "        version = 1,\n",
    "        error_correction = qrcode.constants.ERROR_CORRECT_L,\n",
    "        box_size= 10,\n",
    "    )\n",
    "    qr.add_data(text)\n",
    "    qr.make(fit=True)\n",
    "    img = qr.make_image(fill_color=\"black\", back_color=\"red\")\n",
    "    img.save('qrcode_textcol.png')\n",
    "\n",
    "#Test\n",
    "create_qr_code('La mente...è solo uno scherzo...')"
   ]
  }
 ],
 "metadata": {
  "kernelspec": {
   "display_name": ".v_env_qrcode",
   "language": "python",
   "name": "python3"
  },
  "language_info": {
   "codemirror_mode": {
    "name": "ipython",
    "version": 3
   },
   "file_extension": ".py",
   "mimetype": "text/x-python",
   "name": "python",
   "nbconvert_exporter": "python",
   "pygments_lexer": "ipython3",
   "version": "3.9.6"
  }
 },
 "nbformat": 4,
 "nbformat_minor": 2
}
